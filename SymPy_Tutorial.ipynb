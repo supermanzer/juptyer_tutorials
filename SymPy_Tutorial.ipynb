{
 "cells": [
  {
   "cell_type": "code",
   "execution_count": 1,
   "metadata": {
    "collapsed": false
   },
   "outputs": [
    {
     "name": "stdout",
     "output_type": "stream",
     "text": [
      "IPython console for SymPy 1.0 (Python 3.6.0-32-bit) (ground types: python)\n",
      "\n",
      "These commands were executed:\n",
      ">>> from __future__ import division\n",
      ">>> from sympy import *\n",
      ">>> x, y, z, t = symbols('x y z t')\n",
      ">>> k, m, n = symbols('k m n', integer=True)\n",
      ">>> f, g, h = symbols('f g h', cls=Function)\n",
      ">>> init_printing()\n",
      "\n",
      "Documentation can be found at http://docs.sympy.org/1.0/\n"
     ]
    }
   ],
   "source": [
    "import sympy\n",
    "sympy.init_session()"
   ]
  },
  {
   "cell_type": "markdown",
   "metadata": {
    "collapsed": true
   },
   "source": [
    "### Basic Operations"
   ]
  },
  {
   "cell_type": "code",
   "execution_count": 21,
   "metadata": {
    "collapsed": false
   },
   "outputs": [
    {
     "name": "stdout",
     "output_type": "stream",
     "text": [
      "x + cos(x)\n",
      "y + cos(y)\n",
      "1\n",
      "2*x**3 + cos(2*x**3)\n",
      "x + cos(x)\n",
      "3*x + cos(3*x)\n",
      "2*x - z**2 + cos(y)\n"
     ]
    },
    {
     "data": {
      "image/png": "[encoded data removed]",
      "text/latex": [
       "$$-19 + \\cos{\\left (4 \\right )}$$"
      ],
      "text/plain": [
       "-19 + cos(4)"
      ]
     },
     "execution_count": 21,
     "metadata": {},
     "output_type": "execute_result"
    }
   ],
   "source": [
    "# Creating symbolic variables\n",
    "x, y, z = sympy.symbols(\"x y z\")\n",
    "expr = sympy.cos(x) + 1*x\n",
    "print(expr)\n",
    "# Substitution is a common mathematical operation\n",
    "print(expr.subs(x,y)) # We can substitute one variable for another\n",
    "print(expr.subs(x,0)) # We can also solve for a specific value\n",
    "# We can even sub in a whole new expression\n",
    "print(expr.subs(x,2*x**3))\n",
    "# But SymPy expressions are immutable and are not changed in place\n",
    "# If we want to save the result of a substition, we must\n",
    "# assign it to a new variable.\n",
    "print(expr)\n",
    "expr2 = expr.subs(x,3*x)\n",
    "print(expr2)\n",
    "# We can use a list of tuples to handle subing multiple variables\n",
    "expr = 2*x+sympy.cos(y) - z**2\n",
    "print(expr)\n",
    "expr.subs([(x,3), (y,4), (z,5)])"
   ]
  },
  {
   "cell_type": "code",
   "execution_count": 32,
   "metadata": {
    "collapsed": false
   },
   "outputs": [
    {
     "name": "stdout",
     "output_type": "stream",
     "text": [
      "x**2 + 2*x + 3\n",
      "38\n",
      "2*sqrt(2)\n",
      "2.8284\n",
      "2*x*y + x**y + 36\n",
      "20868.\n"
     ]
    }
   ],
   "source": [
    "# We can convert string expressions into SymPy expressions\n",
    "# using the sympyify function\n",
    "str_eq = \"x**2+2*x+3\"\n",
    "expr = sympy.sympify(str_eq)\n",
    "print(expr)\n",
    "print(expr.subs(x,5))\n",
    "# If we want to evaluate an expression that does not have a \n",
    "# precise solution other than the symbolic one, we can \n",
    "# force evaluation to a floating point number.\n",
    "expr = sympy.sqrt(8)\n",
    "print(expr)\n",
    "print(expr.evalf(5)) # We can specify the number of digits to be returned\n",
    "# we can numericall evaluate expressions that contain symbols\n",
    "# by passing a subs dictionary to the evalf function\n",
    "expr = sympy.sympify(\"x**y + 2*x*y+36\")\n",
    "print(expr)\n",
    "print(expr.evalf(5,subs={x:12,y:4}))"
   ]
  },
  {
   "cell_type": "code",
   "execution_count": 33,
   "metadata": {
    "collapsed": false
   },
   "outputs": [
    {
     "data": {
      "text/plain": [
       "array([  0.        ,  10.84147098,  20.90929743,  30.14112001,\n",
       "        39.2431975 ,  49.04107573,  59.7205845 ,  70.6569866 ,\n",
       "        80.98935825,  90.41211849])"
      ]
     },
     "execution_count": 33,
     "metadata": {},
     "output_type": "execute_result"
    }
   ],
   "source": [
    "# If we are evaluating expressions several times in a script\n",
    "# SymPy can be rather inefficient.  However, we can convert\n",
    "# a SymPy expression to it's NumPy equivalent (to tak advantage\n",
    "# of the speed of NumPy) using the lambidfy function\n",
    "import numpy\n",
    "a = numpy.arange(10) # create an array of numeric values\n",
    "expr = 10*x+sympy.sin(x) # create a SymPy expression\n",
    "f = sympy.lambdify(x, expr, 'numpy') # Convert expr to a Numpy funciton\n",
    "f(a) #Evaluate converted function for all values in a"
   ]
  },
  {
   "cell_type": "code",
   "execution_count": 38,
   "metadata": {
    "collapsed": false
   },
   "outputs": [
    {
     "name": "stdout",
     "output_type": "stream",
     "text": [
      "IPython console for SymPy 1.0 (Python 3.6.0-32-bit) (ground types: python)\n",
      "\n",
      "These commands were executed:\n",
      ">>> from __future__ import division\n",
      ">>> from sympy import *\n",
      ">>> x, y, z, t = symbols('x y z t')\n",
      ">>> k, m, n = symbols('k m n', integer=True)\n",
      ">>> f, g, h = symbols('f g h', cls=Function)\n",
      ">>> init_printing()\n",
      "\n",
      "Documentation can be found at http://docs.sympy.org/1.0/\n"
     ]
    }
   ],
   "source": [
    "sympy.init_session() # We can use this function to initiate a \n",
    "# session, import all SymPy functions, and create some variables."
   ]
  },
  {
   "cell_type": "code",
   "execution_count": 37,
   "metadata": {
    "collapsed": false
   },
   "outputs": [
    {
     "data": {
      "image/png": "[encoded data removed]",
      "text/latex": [
       "$$\\int \\sqrt{\\frac{1}{x}}\\, dx$$"
      ],
      "text/plain": [
       "⌠           \n",
       "⎮     ___   \n",
       "⎮    ╱ 1    \n",
       "⎮   ╱  ─  dx\n",
       "⎮ ╲╱   x    \n",
       "⌡           "
      ]
     },
     "execution_count": 37,
     "metadata": {},
     "output_type": "execute_result"
    }
   ],
   "source": [
    "Integral(sqrt(1/x),x)"
   ]
  },
  {
   "cell_type": "markdown",
   "metadata": {
    "collapsed": true
   },
   "source": [
    "### 2.6 Simplification (page 25)\n",
    "<hr>\n",
    "One of the more powerful features of SymPy is it's ability to symplify mathematical expressions."
   ]
  },
  {
   "cell_type": "code",
   "execution_count": 8,
   "metadata": {
    "collapsed": false
   },
   "outputs": [
    {
     "name": "stdout",
     "output_type": "stream",
     "text": [
      "(x**3 + x**2 + x - 1)/(x*(x + 2))\n",
      "x**2 + 2*x + 1\n",
      "(x + 1)**2\n"
     ]
    }
   ],
   "source": [
    "init_printing(use_unicode=True)\n",
    "# Sympy has a very powerful all purpose simplification function\n",
    "print(simplify((x**3 + x**2 +x -1)/(x**2 + 2*x)))\n",
    "# One pitfal of simplify is, because it tries many forms of\n",
    "# simplification it can be slow and not necessarily result in \n",
    "# the output expected\n",
    "expr = x**2 + 2*x + 1\n",
    "print(simplify(expr))\n",
    "print(factor(expr))"
   ]
  },
  {
   "cell_type": "code",
   "execution_count": 14,
   "metadata": {
    "collapsed": false
   },
   "outputs": [
    {
     "name": "stdout",
     "output_type": "stream",
     "text": [
      "8*x**3 + 12*x**2*y + 6*x*y**2 + y**3\n",
      "-2\n",
      "x**2*z + 4*x*y*z + 4*y**2*z\n",
      "z*(x + 2*y)**2\n",
      "x**2*z + 4*x*y*z + 4*y**2*z\n"
     ]
    }
   ],
   "source": [
    "# Page 26\n",
    "# Expand is a useful function for expanding polynomial\n",
    "# expressions\n",
    "print(expand((x*2+y)**3))\n",
    "# In some cases (due to cancelation) expand can reduce the size\n",
    "# of an expression\n",
    "print(expand((x+1)*(x-2)-(x-1)*x))\n",
    "\n",
    "# factor reduces polynomials to irreducable factors over\n",
    "# rational numbers\n",
    "expr = x**2*z+4*x*y*z+4*y**2*z\n",
    "print(expr)\n",
    "fex = factor(expr)\n",
    "print(fex)\n",
    "expa = expand(fex)\n",
    "print(expa)\n",
    "# Other useful simplification functions include collect(),\n",
    "# cancel(), apart()"
   ]
  },
  {
   "cell_type": "code",
   "execution_count": 18,
   "metadata": {
    "collapsed": false
   },
   "outputs": [
    {
     "name": "stdout",
     "output_type": "stream",
     "text": [
      "cos(4*x)/2 + 1/2\n",
      "cosh(2*x)\n",
      "sin(x)*cos(y) + sin(y)*cos(x)\n"
     ]
    }
   ],
   "source": [
    "# Trigonometric Simplification\n",
    "# To simplify expressions using trig identities there \n",
    "# is a function simply called trigsimp()\n",
    "print(trigsimp(sin(x)**4 - 2*cos(x)**2*sin(x)**2+cos(x)**4))\n",
    "# trigsimp() aslo works on hyperbolic functions\n",
    "print(trigsimp(cosh(x)**2 + sinh(x)**2))\n",
    "# To expand trig functions (apply sum or double angle identities),\n",
    "# we simply use the expand_trig() function\n",
    "print(expand_trig(sin(x+y)))"
   ]
  },
  {
   "cell_type": "code",
   "execution_count": 28,
   "metadata": {
    "collapsed": false
   },
   "outputs": [
    {
     "name": "stdout",
     "output_type": "stream",
     "text": [
      "x**a*x**b simplifies to x**(a + b)\n",
      "t**c*z**c will not simplify, this is what we get: t**c*z**c. Unless we force it. (t*z)**c\n"
     ]
    }
   ],
   "source": [
    "# Powers and power simplification page 30\n",
    "# There are some cases where power simplifications are not true.\n",
    "# Sympy will not perform power simplifications if these \n",
    "# conditions are not generally true.  A way to allow for \n",
    "# this simplification is to put conditions on our symbols to\n",
    "# ensure the conditions under which power simplification is valid\n",
    "# are true.\n",
    "x,y = symbols('x y', positive=True)\n",
    "a,b = symbols('a b', real=True)\n",
    "z, t,c = symbols('z t c') # Introducing invalid conditions\n",
    "# Now we apply our power simplificiation function, pow_simp()\n",
    "mypow = x**a*x**b\n",
    "psimp = powsimp(mypow)\n",
    "print('{0} simplifies to {1}'.format(str(mypow),str(psimp)))\n",
    "# but powsimp refuses to simplify where conditons may not be true\n",
    "mypow = t**c*z**c\n",
    "psimp = powsimp(mypow)\n",
    "print('{0} will not simplify, this is what we get: {1}. Unless we force it. {2}'.format(\n",
    "str(mypow), str(psimp), powsimp(mypow,force=True)))\n",
    "# AAAAAAAAAAAAAANNNNNNNNNNNNNDDDDDDDDDDDDDD.....\n",
    "# There's a few more things that are probably very useful\n",
    "# but right now i really just need this to better understand\n",
    "# how to write calculus as code. Soooo......"
   ]
  },
  {
   "cell_type": "markdown",
   "metadata": {},
   "source": [
    "## Calculus\n"
   ]
  },
  {
   "cell_type": "code",
   "execution_count": 36,
   "metadata": {
    "collapsed": false
   },
   "outputs": [
    {
     "name": "stdout",
     "output_type": "stream",
     "text": [
      "4*x**3\n",
      "24*x\n",
      "24*x\n",
      "2*x\n",
      "2*x\n"
     ]
    }
   ],
   "source": [
    "# Derivatives, page 45\n",
    "# To take the derivative of a function, simply use the \n",
    "# diff function\n",
    "expr = x**4\n",
    "# You can take multiple derivatives (first, second, third, etc)\n",
    "# simply by passing the variable you wish to differentiate\n",
    "# as many times as you want, or you can specify the number\n",
    "print(diff(expr,x))\n",
    "print(diff(expr,x,x,x))\n",
    "print(diff(expr,x,3))\n",
    "# you can also take the derivative of many variables at once\n",
    "expr = x*x*y\n",
    "print(diff(expr,x,y))\n",
    "# Diff can also be called as a method of symoblic expressions\n",
    "print(expr.diff(x,y)) # This is identical to the previous approach\n"
   ]
  },
  {
   "cell_type": "code",
   "execution_count": null,
   "metadata": {
    "collapsed": true
   },
   "outputs": [],
   "source": []
  }
 ],
 "metadata": {
  "kernelspec": {
   "display_name": "Python 3",
   "language": "python",
   "name": "python3"
  },
  "language_info": {
   "codemirror_mode": {
    "name": "ipython",
    "version": 3
   },
   "file_extension": ".py",
   "mimetype": "text/x-python",
   "name": "python",
   "nbconvert_exporter": "python",
   "pygments_lexer": "ipython3",
   "version": "3.6.0"
  }
 },
 "nbformat": 4,
 "nbformat_minor": 2
}
